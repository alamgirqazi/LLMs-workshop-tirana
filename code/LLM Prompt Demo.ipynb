{
 "cells": [
  {
   "attachments": {},
   "cell_type": "markdown",
   "metadata": {
    "id": "2dLdwEIy91QX"
   },
   "source": [
    "# GPT Prompt Tutorial\n",
    "16, April, 2025\n",
    "Polytechnic University of Tirana!\n",
    "<br> Please use your own OPENAI API KEY\n",
    "\n",
    "\n",
    " \n",
    " "
   ]
  },
  {
   "cell_type": "code",
   "execution_count": 44,
   "metadata": {
    "id": "7N8bvwlT98KX"
   },
   "outputs": [],
   "source": [
    "import openai\n",
    "import os\n",
    "from getpass import getpass\n",
    "\n",
    "from dotenv import load_dotenv, find_dotenv\n",
    "\n",
    "\n",
    "#openai.api_key  = getpass()\n",
    " \n",
    "#openai.api_key = os.environ[\"OPENAI_API_KEY\"]\n",
    "\n",
    "openai.api_key=\"OPENAI_API_KEY\"\n",
    "\n",
    "def get_completion(prompt, model=\"gpt-4o-mini\"):\n",
    "    #gpt-4o-mini\n",
    "    messages = [{\"role\": \"user\", \"content\": prompt}]\n",
    "    response = openai.ChatCompletion.create(\n",
    "        model=model,\n",
    "        messages=messages,\n",
    "        temperature=0, # this is the degree of randomness of the model's output\n",
    "    )\n",
    "    return response.choices[0].message[\"content\"]\n",
    "\n",
    "def get_completion_from_messages(messages, model=\"gpt-4o-mini\", temperature=0):\n",
    "    response = openai.ChatCompletion.create(\n",
    "        model=model,\n",
    "        messages=messages,\n",
    "        temperature=temperature, # this is the degree of randomness of the model's output\n",
    "    )\n",
    "#     print(str(response.choices[0].message))\n",
    "    return response.choices[0].message[\"content\"]"
   ]
  },
  {
   "cell_type": "markdown",
   "metadata": {},
   "source": [
    "Goal: You want the LLM to define a complex term in simple language.\n",
    "Ineffective Prompt: \"What is photosynthesis?\"\n",
    "Effective Prompt: \"Explain the concept of 'photosynthesis' in simple terms, with use of analogies, that a 8th grader can understand.\"\n",
    "Expected Response: A clear and simple definition of photosynthesis suitable for a young student."
   ]
  },
  {
   "cell_type": "code",
   "execution_count": 29,
   "metadata": {},
   "outputs": [
    {
     "name": "stdout",
     "output_type": "stream",
     "text": [
      "Photosynthesis is like a magic trick that plants do to make their own food! Just like how you need food to grow and play, plants need food too. \n",
      "\n",
      "Here’s how it works: \n",
      "\n",
      "1. **Sunlight**: Plants use sunlight, which is like their special energy source. Imagine the sun is a big lamp that helps them cook their food!\n",
      "\n",
      "2. **Water**: Plants drink water from the ground through their roots, just like you drink water when you're thirsty.\n",
      "\n",
      "3. **Air**: Plants also take in a gas from the air called carbon dioxide. You breathe out carbon dioxide, and plants use it to help make their food.\n",
      "\n",
      "When plants mix sunlight, water, and carbon dioxide together, they create their own food (which is a kind of sugar) and give off oxygen, which is the fresh air we breathe!\n",
      "\n",
      "**Real-life example**: Think about a big green tree in your backyard. That tree is using sunlight, water from the ground, and air to make its food. And while it’s doing that, it’s also giving us oxygen to breathe. So, when you play outside, you’re enjoying the fresh air that the tree helped make!\n"
     ]
    }
   ],
   "source": [
    "text = f\"\"\"\n",
    "\n",
    "What is photosynthesis?\n",
    "\"\"\"\n",
    "prompt = f\"\"\"\n",
    "   \n",
    "    Use your knowledge to answer about the text delimited by triple \\\n",
    "    backticks . Five year old kid is asking, so please give real life example.\n",
    "     \n",
    "     \\ \n",
    "\n",
    "\n",
    "```{text}```\n",
    "\"\"\"\n",
    "response = get_completion(prompt)\n",
    "print(response)"
   ]
  },
  {
   "cell_type": "code",
   "execution_count": null,
   "metadata": {},
   "outputs": [],
   "source": [
    "Fotosinteza është procesi që bimore përdorin për të prodhuar ushqim. Ato marrin dritën e diellit, ujë dhe dioksid karboni nga ajri dhe i përdorin këto për të krijuar sheqer dhe oksigjen. Kështu, bimoreve u ndihmojnë të rriten dhe të mbijetojnë."
   ]
  },
  {
   "cell_type": "code",
   "execution_count": 30,
   "metadata": {
    "id": "OwMBRMRp9_ze",
    "scrolled": true
   },
   "outputs": [
    {
     "name": "stdout",
     "output_type": "stream",
     "text": [
      "Photosynthesis is like a cooking process that plants use to make their own food. Imagine a chef in a kitchen who needs certain ingredients to prepare a meal. In the case of plants, the ingredients they need are sunlight, carbon dioxide (a gas in the air), and water.\n",
      "\n",
      "Here’s how it works:\n",
      "\n",
      "1. **Sunlight**: Think of sunlight as the stove that provides heat for cooking. Plants have a special part called chlorophyll (which is what makes leaves green) that acts like a solar panel, capturing sunlight.\n",
      "\n",
      "2. **Carbon Dioxide**: This is like the air we breathe, but plants take it in through tiny openings in their leaves. You can think of carbon dioxide as the seasoning that adds flavor to the food.\n",
      "\n",
      "3. **Water**: Just like a chef needs water to cook, plants absorb water from the soil through their roots. This is like the main ingredient in a recipe.\n",
      "\n",
      "When plants combine these three ingredients—sunlight, carbon dioxide, and water—they create their own food, which is a type of sugar called glucose. This is similar to how a chef combines ingredients to make a delicious dish.\n",
      "\n",
      "As a bonus, during this cooking process, plants also release oxygen, which is the fresh air we breathe. So, you can think of plants as little factories that not only make food for themselves but also produce oxygen for us to enjoy!\n",
      "\n",
      "In summary, photosynthesis is how plants \"cook\" their food using sunlight, carbon dioxide, and water, and in the process, they help keep our air clean and fresh.\n"
     ]
    }
   ],
   "source": [
    "text = f\"\"\"\n",
    "\n",
    "What is photosynthesis?\n",
    "\"\"\"\n",
    "prompt = f\"\"\"\n",
    "   \n",
    "    Explain the concept of 'photosynthesis' in simple terms, with use of analogies, \n",
    "    that a 8th grader can understand.\n",
    "\n",
    "```{text}```\n",
    "\"\"\"\n",
    "response = get_completion(prompt)\n",
    "print(response)"
   ]
  },
  {
   "cell_type": "code",
   "execution_count": 46,
   "metadata": {},
   "outputs": [
    {
     "name": "stdout",
     "output_type": "stream",
     "text": [
      "The translation into English is: The cat eats, the mice escape.\n"
     ]
    }
   ],
   "source": [
    "text = f\"\"\"\n",
    "tranlate into english: Iku macja, lozin minjtë\n",
    "\n",
    "\"\"\"\n",
    " \n",
    "\n",
    "\n",
    "prompt = f\"\"\"\n",
    "   \n",
    " Answer based on text mentioned in triple backticks  in  british english.    \\ \n",
    "\n",
    "```{text}``` \n",
    " \n",
    "\"\"\"\n",
    "response = get_completion(prompt)\n",
    "print(response)"
   ]
  },
  {
   "cell_type": "code",
   "execution_count": 31,
   "metadata": {
    "scrolled": true
   },
   "outputs": [
    {
     "name": "stdout",
     "output_type": "stream",
     "text": [
      "Based on the sentiment expressed in the text, \"Dogs are amazing\" would be considered \"positive.\"\n"
     ]
    }
   ],
   "source": [
    " \n",
    "\n",
    "text = f\"\"\"\n",
    " Rain is bad is “negative.” Sun is good is “positive.” Kittens are awesome is “positive.” Knowing this sentiment, what is Dogs are amazing?\n",
    "\n",
    "\n",
    "\n",
    "\"\"\"\n",
    " \n",
    "\n",
    "\n",
    "prompt = f\"\"\"\n",
    "   \n",
    " Answer based on text mentioned in triple backticks  in  british english.    \\ \n",
    "\n",
    "```{text}``` \n",
    " \n",
    "\"\"\"\n",
    "response = get_completion(prompt)\n",
    "print(response)"
   ]
  },
  {
   "cell_type": "code",
   "execution_count": 33,
   "metadata": {},
   "outputs": [
    {
     "name": "stdout",
     "output_type": "stream",
     "text": [
      "The road is a long stretch where cats can wander freely, chasing butterflies and exploring new scents.\n"
     ]
    }
   ],
   "source": [
    "text = f\"\"\"\n",
    "Complete the sentence as if it were going to be used in a cat’s book: The road is \n",
    "\n",
    "\n",
    "\n",
    "\"\"\"\n",
    "prompt = f\"\"\"\n",
    "   \n",
    "   Do as mentioned in the  text delimited by triple backticks in simple british english. This is for website content about one workshop   \\ \n",
    "\n",
    "```{text}```\n",
    "\"\"\"\n",
    "response = get_completion(prompt)\n",
    "print(response)"
   ]
  },
  {
   "cell_type": "code",
   "execution_count": 34,
   "metadata": {},
   "outputs": [
    {
     "name": "stdout",
     "output_type": "stream",
     "text": [
      "To improve readability, consider using more descriptive variable names. For example, instead of using `even`, you could use `is_even` to clearly indicate that the variable represents a boolean value indicating whether the number is even. This makes the code easier to understand at a glance.\n"
     ]
    }
   ],
   "source": [
    "text = f\"\"\"\n",
    "number = int(input(\"Which number do you want to check? \"))\n",
    "\n",
    "even = number % 2 == 0\n",
    "\n",
    "print(even)\n",
    "\n",
    "if number == even:\n",
    "    print(\"This is an even number.\")\n",
    "else:\n",
    "    print(\"This is an odd number.\")\n",
    "\n",
    "\"\"\"\n",
    "prompt = f\"\"\"\n",
    "   \n",
    "   I have some code in the  text delimited by triple backticks. \\\n",
    "   Give one suggestion to improve readability. Don't fix the code, just give a suggestion.     \\ \n",
    "\n",
    "```{text}```\n",
    "\"\"\"\n",
    "response = get_completion(prompt)\n",
    "print(response)"
   ]
  },
  {
   "cell_type": "code",
   "execution_count": 36,
   "metadata": {},
   "outputs": [
    {
     "name": "stdout",
     "output_type": "stream",
     "text": [
      "A juggler can juggle 16 balls. Half of these balls are golf balls, which means there are 8 golf balls. Since half of the golf balls are blue, there are 4 blue balls.\n"
     ]
    }
   ],
   "source": [
    "text = f\"\"\"\n",
    "A juggler can juggle 16 balls. Half of the balls are golf balls, and half of the golf balls are blue. \\\n",
    "How many blue balls are there?\n",
    "\"\"\"\n",
    "prompt = f\"\"\"\n",
    "   \n",
    "   Do as mentioned in the  text delimited by triple backticks in simple british english.     \\ \n",
    "\n",
    "```{text}```\n",
    "\"\"\"\n",
    "response = get_completion(prompt)\n",
    "print(response)"
   ]
  },
  {
   "cell_type": "code",
   "execution_count": null,
   "metadata": {
    "scrolled": true
   },
   "outputs": [],
   "source": [
    "text = f\"\"\"\n",
    "Fission occurs when a neutron slams into a larger atom, \\\n",
    "forcing it to excite and split into two smaller atoms—also known as fission products. \\\n",
    "Additional neutrons are also released that can initiate a chain reaction. \\\n",
    "When each atom splits, a tremendous amount of energy is released.\n",
    "\"\"\"\n",
    "prompt = f\"\"\"\n",
    "Adjust the text delimited by triple backticks \\ \n",
    "to suit a 8th grade kid. Maintain the core information while ensuring readability for the specified grade level.\n",
    "```{text}```\n",
    "\"\"\"\n",
    "response = get_completion(prompt)\n",
    "print(response)"
   ]
  }
 ],
 "metadata": {
  "colab": {
   "authorship_tag": "ABX9TyPUB/l//BFK5z5KaeV64uDe",
   "provenance": []
  },
  "kernelspec": {
   "display_name": "Python 3 (ipykernel)",
   "language": "python",
   "name": "python3"
  },
  "language_info": {
   "codemirror_mode": {
    "name": "ipython",
    "version": 3
   },
   "file_extension": ".py",
   "mimetype": "text/x-python",
   "name": "python",
   "nbconvert_exporter": "python",
   "pygments_lexer": "ipython3",
   "version": "3.9.13"
  }
 },
 "nbformat": 4,
 "nbformat_minor": 1
}
